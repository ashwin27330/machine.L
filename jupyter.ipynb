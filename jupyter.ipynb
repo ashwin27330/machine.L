import matplotlib.pyplot as plt
x=[2,8]
y=[3,5]
x1=[5,9]
y1=[32,54]
plt.title("this is a sample graph")
plt.xlabel("Distance")
plt.ylabel("Speed")
plt.plot(x,y,color='g',linewidth=2,marker='*',label='Danger')
plt.plot(x1,y1,color='y',label='Safe')
plt.bar(x,y,label="money",color='g')
plt.bar(x1,y1,label="TIme",color='')
plt.grid(True,color='r')
plt.legend()
plt.show()

